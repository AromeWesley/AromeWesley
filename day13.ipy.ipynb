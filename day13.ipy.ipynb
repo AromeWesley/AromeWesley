{
 "cells": [
  {
   "cell_type": "markdown",
   "id": "f6d2d00e",
   "metadata": {},
   "source": [
    "#class and objects\n",
    "#clas has two main properties: attributes and methods. attribute defines the class, while method states the function of the class"
   ]
  },
  {
   "cell_type": "code",
   "execution_count": 13,
   "id": "ad053a68",
   "metadata": {},
   "outputs": [
    {
     "name": "stdout",
     "output_type": "stream",
     "text": [
      "Mammal\n"
     ]
    }
   ],
   "source": [
    "class dog:\n",
    "    attr1 = 'Mammal'\n",
    "    attr2 = 'Bark'\n",
    "obj1 =dog()\n",
    "print(obj1.attr1)"
   ]
  },
  {
   "cell_type": "code",
   "execution_count": 8,
   "id": "7e03dbe0",
   "metadata": {},
   "outputs": [
    {
     "name": "stdout",
     "output_type": "stream",
     "text": [
      "Rocky belongs to thefamily of Mammal\n",
      "None\n"
     ]
    }
   ],
   "source": [
    "class dog:\n",
    "    attr1 = 'Mammal'\n",
    "    attr2 = 'Bark'\n",
    "    def family(self):\n",
    "        print(f'Rocky belongs to thefamily of {self.attr1}')\n",
    "obj1 = dog()\n",
    "print(obj1.family())\n"
   ]
  },
  {
   "cell_type": "code",
   "execution_count": 14,
   "id": "e3509b24",
   "metadata": {},
   "outputs": [],
   "source": [
    "#self does not require"
   ]
  },
  {
   "cell_type": "code",
   "execution_count": 31,
   "id": "1a3b30f7",
   "metadata": {},
   "outputs": [],
   "source": [
    "#to build a car simulationgame\n",
    "#brand, model, year, speed, color\n",
    "class simulationgame:\n",
    "    def __init__(self, Brand, Model, Color, Year, Speed):\n",
    "        self.Brand = Brand\n",
    "        self.Model = Model\n",
    "        self.Color = Color\n",
    "        self.Year = Year\n",
    "        self.Speed = Speed\n",
    "    def start(self):\n",
    "        print(f'{self.Brand}{self.Model} has started')\n",
    "    def gear(self):\n",
    "        choice = int(input('please choose a gear:'))\n",
    "        if choice==1:\n",
    "            print('gear changed to 1')\n",
    "        elif choice == 2:\n",
    "             print('gear changed to 2')\n",
    "        elif choice == 3:\n",
    "             print('gear changed to 3')\n",
    "        elif choice == 4:\n",
    "             print('gear changed to 4')\n",
    "        elif choice == 5:\n",
    "             print('gear changed to 5')\n",
    "        elif choice == 6:\n",
    "            print('gear put on reverse')\n",
    "    def intro(self,ch):\n",
    "        if ch == 1:\n",
    "            print('Nitro engaged')\n",
    "        else:\n",
    "            print('Nitro Disengaged')\n",
    "    def stop(self):\n",
    "        print(f'{self.Brand} {self.Model}has stopped and parked')\n",
    "car1 = simulationgame('Audi','A4','Blue',2018,350)\n",
    "    "
   ]
  },
  {
   "cell_type": "code",
   "execution_count": 32,
   "id": "6f4b4d11",
   "metadata": {},
   "outputs": [
    {
     "name": "stdout",
     "output_type": "stream",
     "text": [
      "AudiA4 has started\n"
     ]
    }
   ],
   "source": [
    "car1.start()"
   ]
  },
  {
   "cell_type": "code",
   "execution_count": 33,
   "id": "0ed0c445",
   "metadata": {},
   "outputs": [
    {
     "name": "stdout",
     "output_type": "stream",
     "text": [
      "please choose a gear:2\n",
      "gear changed to 2\n"
     ]
    }
   ],
   "source": [
    "car1.gear()"
   ]
  },
  {
   "cell_type": "code",
   "execution_count": 34,
   "id": "5fe82cfa",
   "metadata": {},
   "outputs": [
    {
     "name": "stdout",
     "output_type": "stream",
     "text": [
      "please choose a gear:1\n",
      "gear changed to 1\n"
     ]
    }
   ],
   "source": [
    "car1.gear()"
   ]
  },
  {
   "cell_type": "code",
   "execution_count": 35,
   "id": "dbf07a12",
   "metadata": {},
   "outputs": [
    {
     "name": "stdout",
     "output_type": "stream",
     "text": [
      "Nitro engaged\n"
     ]
    }
   ],
   "source": [
    "car1.intro(1)"
   ]
  },
  {
   "cell_type": "code",
   "execution_count": 36,
   "id": "e39d4ea9",
   "metadata": {},
   "outputs": [
    {
     "name": "stdout",
     "output_type": "stream",
     "text": [
      "Audi A4has stopped and parked\n"
     ]
    }
   ],
   "source": [
    "car1.stop()"
   ]
  },
  {
   "cell_type": "code",
   "execution_count": null,
   "id": "e67c2b97",
   "metadata": {},
   "outputs": [],
   "source": []
  },
  {
   "cell_type": "code",
   "execution_count": 37,
   "id": "f3dac1ad",
   "metadata": {},
   "outputs": [],
   "source": [
    "#inheritance"
   ]
  },
  {
   "cell_type": "code",
   "execution_count": 39,
   "id": "20bc3a58",
   "metadata": {},
   "outputs": [
    {
     "name": "stdout",
     "output_type": "stream",
     "text": [
      "GolfM5 has started\n"
     ]
    }
   ],
   "source": [
    "class sedan (simulationgame):\n",
    "    def openroof(self,ch):\n",
    "        if ch ==1:\n",
    "            print('Roof Opened')\n",
    "        else:\n",
    "            print('roof closed')\n",
    "car2 = sedan('Golf','M5','Black',2021,400)\n",
    "car2.start()"
   ]
  },
  {
   "cell_type": "code",
   "execution_count": 51,
   "id": "7b5fe1a0",
   "metadata": {},
   "outputs": [],
   "source": [
    "class sonic():\n",
    "    def __init__(self,charactername, charactercolor, mainpower, generalpower):\n",
    "        self.charactername = charactername\n",
    "        self.charactercolor = charactercolor\n",
    "        self.mainpower = mainpower\n",
    "        self.generalpower= generalpower\n",
    "    def start(self):\n",
    "        print(f'{self.charactername} has started')\n",
    "    def obstacle1(self):\n",
    "        choice = int(input('please choose a botton:'))\n",
    "        if choice ==1:\n",
    "            print('Jump over')\n",
    "        elif choice== 2:\n",
    "            print('Roll under')\n",
    "        elif choice ==3:\n",
    "                print('activate power boot and jump over')\n",
    "        elif choice == 4:\n",
    "                print('turn right')\n",
    "        elif choice == 5:\n",
    "                print('turn left')\n",
    "        elif choice == 6:\n",
    "                print('maintain direction')\n",
    "    def end(self):\n",
    "            print('game over')\n",
    "player1= sonic('hedgehog','blue','superboss','milestalespower') \n",
    "            \n",
    "                              "
   ]
  },
  {
   "cell_type": "code",
   "execution_count": 55,
   "id": "edcf6ce8",
   "metadata": {},
   "outputs": [
    {
     "name": "stdout",
     "output_type": "stream",
     "text": [
      "hedgehog has started\n"
     ]
    }
   ],
   "source": [
    "player1.start()"
   ]
  },
  {
   "cell_type": "code",
   "execution_count": 56,
   "id": "1b9590a4",
   "metadata": {},
   "outputs": [
    {
     "name": "stdout",
     "output_type": "stream",
     "text": [
      "please choose a botton:2\n",
      "Roll under\n"
     ]
    }
   ],
   "source": [
    "player1.obstacle1()"
   ]
  },
  {
   "cell_type": "code",
   "execution_count": 57,
   "id": "6f296b49",
   "metadata": {},
   "outputs": [
    {
     "name": "stdout",
     "output_type": "stream",
     "text": [
      "please choose a botton:1\n",
      "Jump over\n"
     ]
    }
   ],
   "source": [
    "player1.obstacle1()"
   ]
  },
  {
   "cell_type": "code",
   "execution_count": 2,
   "id": "6ffce578",
   "metadata": {},
   "outputs": [
    {
     "name": "stdout",
     "output_type": "stream",
     "text": [
      "enter Y as yes and N as no to perform your operation:N\n",
      "=====The list of the phone that the store has=====\n"
     ]
    }
   ],
   "source": [
    "#work Title\n",
    "\n",
    "\n",
    "class phonesstore:\n",
    "    def __init__ (self,PhoneName,ModelNumber,Price):\n",
    "        self.PhoneName = PhoneName\n",
    "        self.ModelNumber = PhoneNumber\n",
    "        self.Price = price\n",
    "    def getprice(self):\n",
    "        return self.price\n",
    "    def getmodel(self):\n",
    "        return self.ModelNumber\n",
    "    def __str__ (self):\n",
    "        return self.PhoneName + ':'+ str(self.getmodel())+'::'+ str(self.getprice())\n",
    "def prices(rec,PhoneName,ModelName,Price):\n",
    "    rec.append(phonesstore(PhoneNumber,ModelNumber,Price))\n",
    "    return rec\n",
    "record = []\n",
    "X = input('enter Y as yes and N as no to perform your operation:')\n",
    "while X == 'Y':\n",
    "    PhoneName = input(\n",
    "    'Phone Name:')\n",
    "    ModelNumber = input('ModelNuber:')\n",
    "    Price = input('Price:')\n",
    "    record = prices(record,PhoneName,ModelName,price)\n",
    "    X = input('enter Y as yes and N as no to perform your operation:')\n",
    "n = 1\n",
    "print(\"=====The list of the phone that the store has=====\")\n",
    "for item in record:\n",
    "    print(n, '-', item)\n",
    "    n =n+1\n",
    "        "
   ]
  },
  {
   "cell_type": "code",
   "execution_count": null,
   "id": "0a8fa9cd",
   "metadata": {},
   "outputs": [],
   "source": [
    "#Error language"
   ]
  },
  {
   "cell_type": "code",
   "execution_count": 1,
   "id": "218c4b6a",
   "metadata": {},
   "outputs": [],
   "source": [
    "#try\n",
    "#except\n",
    "#else\n",
    "#finally"
   ]
  },
  {
   "cell_type": "code",
   "execution_count": null,
   "id": "6b4aa294",
   "metadata": {},
   "outputs": [],
   "source": []
  },
  {
   "cell_type": "code",
   "execution_count": 9,
   "id": "014bf84f",
   "metadata": {},
   "outputs": [
    {
     "name": "stdout",
     "output_type": "stream",
     "text": [
      "Enter first Number50\n",
      "Enter second Number25\n",
      "+:Addition\n",
      "    -:Subtraction\n",
      "    *:Multiplication\n",
      "    /:Division\n",
      "    /\n",
      "50/25=2.0\n",
      "50**25=75\n",
      "End of program\n"
     ]
    }
   ],
   "source": [
    "try:\n",
    "    num1 = int(input('Enter first Number'))\n",
    "    num2 = int(input('Enter second Number'))\n",
    "    operation= input('''+:Addition\n",
    "    -:Subtraction\n",
    "    *:Multiplication\n",
    "    /:Division\n",
    "    ''')\n",
    "    if operation == '+':\n",
    "        print(f'{num1}+{num2}={num1+num2}')\n",
    "    elif operation == '-':\n",
    "        print (f'{num1}-{num2}={num1-num2}')\n",
    "    elif operation == '*':\n",
    "        print(f'{num1}*{num2}={num1*num2}')\n",
    "    elif operation =='/':\n",
    "        print(f'{num1}/{num2}={num1/num2}')\n",
    "except ValueError:\n",
    "    print('you have entered a wrong value only integar value should be entered')\n",
    "except ZeroDivisionError:\n",
    "    print('you cannot divide a nuber by zero')\n",
    "except:\n",
    "    print('you have encountered one or more errors')\n",
    "else:\n",
    "    print(f'{num1}**{num2}={num1+num2}')\n",
    "finally:\n",
    "    print('End of program')\n",
    "               \n",
    "        "
   ]
  },
  {
   "cell_type": "code",
   "execution_count": null,
   "id": "2382aca4",
   "metadata": {},
   "outputs": [],
   "source": []
  }
 ],
 "metadata": {
  "kernelspec": {
   "display_name": "Python 3 (ipykernel)",
   "language": "python",
   "name": "python3"
  },
  "language_info": {
   "codemirror_mode": {
    "name": "ipython",
    "version": 3
   },
   "file_extension": ".py",
   "mimetype": "text/x-python",
   "name": "python",
   "nbconvert_exporter": "python",
   "pygments_lexer": "ipython3",
   "version": "3.9.12"
  }
 },
 "nbformat": 4,
 "nbformat_minor": 5
}
