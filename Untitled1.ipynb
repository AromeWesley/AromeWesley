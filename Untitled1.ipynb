{
 "cells": [
  {
   "cell_type": "code",
   "execution_count": null,
   "id": "4ea21298",
   "metadata": {},
   "outputs": [],
   "source": [
    "#Work Title: PHONE STORE (MOBILE SHOP) RECORD MANAGEMENT\n",
    "#A smart phone dealer in the locality is veery worried about his records as his assistant is nott serious\n",
    "#about the turnover. He cant change his assistants because he us one from the family and therefore it turns to be serious prob\n",
    "#for Simeon's store. Simeon's discussed with his friends and the advised him to use a computer program to manage his "
   ]
  }
 ],
 "metadata": {
  "kernelspec": {
   "display_name": "Python 3 (ipykernel)",
   "language": "python",
   "name": "python3"
  },
  "language_info": {
   "codemirror_mode": {
    "name": "ipython",
    "version": 3
   },
   "file_extension": ".py",
   "mimetype": "text/x-python",
   "name": "python",
   "nbconvert_exporter": "python",
   "pygments_lexer": "ipython3",
   "version": "3.9.12"
  }
 },
 "nbformat": 4,
 "nbformat_minor": 5
}
