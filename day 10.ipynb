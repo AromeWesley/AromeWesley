use earlycodestores;
select * from studentsperformance; 
select distinct(gender) from studentsperformance;
select* from studentsperformance order by lunch; 
select * from studentsperformance order by lunch desc;
select * from studentsperformance order by gender;

select *, if (mathscore < 55,'True','False') as result from studentsperformance;
select gender, raceethnicity, ifnull(gender, lunch) as result from studentsperformance;
select raceethnicity, nullif (mathscore,readingscore)from studentsperformance;

select*,
case raceethnicity
   when 'group A' then 'Asian'
   when 'group B' then 'South American'
   when 'group C' then 'European'
   when 'group D' then 'North American'
   else 'African'end as race from studentsperformance;
   