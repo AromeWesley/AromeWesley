{
 "cells": [
  {
   "cell_type": "code",
   "execution_count": 2,
   "id": "2a6c2966",
   "metadata": {},
   "outputs": [],
   "source": [
    "import datetime"
   ]
  },
  {
   "cell_type": "code",
   "execution_count": 4,
   "id": "be5a7979",
   "metadata": {},
   "outputs": [
    {
     "ename": "NameError",
     "evalue": "name 'datetime' is not defined",
     "output_type": "error",
     "traceback": [
      "\u001b[1;31m---------------------------------------------------------------------------\u001b[0m",
      "\u001b[1;31mNameError\u001b[0m                                 Traceback (most recent call last)",
      "Input \u001b[1;32mIn [4]\u001b[0m, in \u001b[0;36m<cell line: 1>\u001b[1;34m()\u001b[0m\n\u001b[1;32m----> 1\u001b[0m \u001b[38;5;28mprint\u001b[39m(\u001b[38;5;28mdir\u001b[39m(\u001b[43mdatetime\u001b[49m))\n",
      "\u001b[1;31mNameError\u001b[0m: name 'datetime' is not defined"
     ]
    }
   ],
   "source": [
    "print(dir(datetime))"
   ]
  },
  {
   "cell_type": "code",
   "execution_count": 11,
   "id": "0399ec0e",
   "metadata": {},
   "outputs": [
    {
     "ename": "NameError",
     "evalue": "name 'datetime' is not defined",
     "output_type": "error",
     "traceback": [
      "\u001b[1;31m---------------------------------------------------------------------------\u001b[0m",
      "\u001b[1;31mNameError\u001b[0m                                 Traceback (most recent call last)",
      "Input \u001b[1;32mIn [11]\u001b[0m, in \u001b[0;36m<cell line: 1>\u001b[1;34m()\u001b[0m\n\u001b[1;32m----> 1\u001b[0m date1 \u001b[38;5;241m=\u001b[39m \u001b[43mdatetime\u001b[49m\u001b[38;5;241m.\u001b[39mdate(\u001b[38;5;241m2022\u001b[39m,\u001b[38;5;241m2\u001b[39m,\u001b[38;5;241m24\u001b[39m)\n",
      "\u001b[1;31mNameError\u001b[0m: name 'datetime' is not defined"
     ]
    }
   ],
   "source": [
    "date1 = datetime.date(2022,2,24)"
   ]
  },
  {
   "cell_type": "code",
   "execution_count": 19,
   "id": "b3f3a693",
   "metadata": {},
   "outputs": [
    {
     "name": "stdout",
     "output_type": "stream",
     "text": [
      "2022\n",
      "2\n",
      "24\n",
      "3\n",
      "4\n"
     ]
    }
   ],
   "source": [
    "print(date1.year)\n",
    "print(date1.month)\n",
    "print(date1.day)\n",
    "print(date1.weekday())\n",
    "print(date1.isoweekday())"
   ]
  },
  {
   "cell_type": "code",
   "execution_count": 8,
   "id": "bf5c90a1",
   "metadata": {},
   "outputs": [
    {
     "name": "stdout",
     "output_type": "stream",
     "text": [
      "2022-06-21\n"
     ]
    }
   ],
   "source": [
    "currentdate = datetime.date.today()\n",
    "print(currentdate)"
   ]
  },
  {
   "cell_type": "code",
   "execution_count": 5,
   "id": "d249c0f0",
   "metadata": {},
   "outputs": [
    {
     "ename": "NameError",
     "evalue": "name 'currentdate' is not defined",
     "output_type": "error",
     "traceback": [
      "\u001b[1;31m---------------------------------------------------------------------------\u001b[0m",
      "\u001b[1;31mNameError\u001b[0m                                 Traceback (most recent call last)",
      "Input \u001b[1;32mIn [5]\u001b[0m, in \u001b[0;36m<cell line: 2>\u001b[1;34m()\u001b[0m\n\u001b[0;32m      1\u001b[0m \u001b[38;5;66;03m#strftime: this is used for the modification of date and time      #the sign % is for formating returning the values\u001b[39;00m\n\u001b[1;32m----> 2\u001b[0m \u001b[43mcurrentdate\u001b[49m\u001b[38;5;241m.\u001b[39mstrftime(\u001b[38;5;124m'\u001b[39m\u001b[38;5;132;01m%d\u001b[39;00m\u001b[38;5;124m \u001b[39m\u001b[38;5;124m%\u001b[39m\u001b[38;5;124mb, \u001b[39m\u001b[38;5;124m%\u001b[39m\u001b[38;5;124mY\u001b[39m\u001b[38;5;124m'\u001b[39m)\n",
      "\u001b[1;31mNameError\u001b[0m: name 'currentdate' is not defined"
     ]
    }
   ],
   "source": [
    "#strftime: this is used for the modification of date and time      #the sign % is for formating returning the values\n",
    "currentdate.strftime('%d %b, %Y')"
   ]
  },
  {
   "cell_type": "code",
   "execution_count": 14,
   "id": "ddf1307d",
   "metadata": {},
   "outputs": [],
   "source": [
    "time1 = datetime.time(10,54,59,150000)   #hour, minute, seconds, micro seconds"
   ]
  },
  {
   "cell_type": "code",
   "execution_count": 18,
   "id": "8fd406ac",
   "metadata": {},
   "outputs": [
    {
     "name": "stdout",
     "output_type": "stream",
     "text": [
      "10\n",
      "54\n",
      "59\n",
      "150000\n"
     ]
    }
   ],
   "source": [
    "print(time1.hour)\n",
    "print(time1.minute)\n",
    "print(time1.second)\n",
    "print(time1.microsecond)"
   ]
  },
  {
   "cell_type": "code",
   "execution_count": 20,
   "id": "cbeaa829",
   "metadata": {},
   "outputs": [],
   "source": [
    "currenttime = datetime.datetime.now().time()"
   ]
  },
  {
   "cell_type": "code",
   "execution_count": 22,
   "id": "5a847175",
   "metadata": {},
   "outputs": [
    {
     "name": "stdout",
     "output_type": "stream",
     "text": [
      "08:42:28.859888\n"
     ]
    }
   ],
   "source": [
    "print(currenttime)"
   ]
  },
  {
   "cell_type": "code",
   "execution_count": 24,
   "id": "c24cbd76",
   "metadata": {},
   "outputs": [
    {
     "data": {
      "text/plain": [
       "'AM'"
      ]
     },
     "execution_count": 24,
     "metadata": {},
     "output_type": "execute_result"
    }
   ],
   "source": [
    "currenttime.strftime('%p')"
   ]
  },
  {
   "cell_type": "code",
   "execution_count": 26,
   "id": "179bd4b9",
   "metadata": {},
   "outputs": [
    {
     "name": "stdout",
     "output_type": "stream",
     "text": [
      "2022-06-21 08:45:42.138894\n"
     ]
    }
   ],
   "source": [
    "currentdatetime = datetime.datetime.now()\n",
    "print(currentdatetime)"
   ]
  },
  {
   "cell_type": "code",
   "execution_count": 27,
   "id": "efd86533",
   "metadata": {},
   "outputs": [],
   "source": [
    "#Have a list of 5 friends and forward a message stating \"Hey{name of friends in the list} this is a kind reminder of our party\n",
    "#holding on the 25 july, 2022 \""
   ]
  },
  {
   "cell_type": "code",
   "execution_count": 30,
   "id": "a3ca1298",
   "metadata": {},
   "outputs": [
    {
     "name": "stdout",
     "output_type": "stream",
     "text": [
      "Hey paul this is a kind reminder of our party holding on the 25 July,2022,00AM prompy\n",
      "Hey jane this is a kind reminder of our party holding on the 25 July,2022,00AM prompy\n",
      "Hey kingsley this is a kind reminder of our party holding on the 25 July,2022,00AM prompy\n",
      "Hey efe this is a kind reminder of our party holding on the 25 July,2022,00AM prompy\n",
      "Hey love this is a kind reminder of our party holding on the 25 July,2022,00AM prompy\n"
     ]
    }
   ],
   "source": [
    "import datetime\n",
    "friends = ['paul', 'jane', 'kingsley', 'efe', 'love']\n",
    "date2 = datetime.datetime(2022,7,25)\n",
    "for name in friends:\n",
    "     print('Hey',name, 'this is a kind reminder of our party holding on the', date2.strftime('%d %B,%Y,%H%p prompt'))"
   ]
  },
  {
   "cell_type": "code",
   "execution_count": 31,
   "id": "abc08225",
   "metadata": {},
   "outputs": [],
   "source": [
    "#strptime #converts stringe dates to datetime"
   ]
  },
  {
   "cell_type": "code",
   "execution_count": 41,
   "id": "691d7cf1",
   "metadata": {},
   "outputs": [
    {
     "name": "stdout",
     "output_type": "stream",
     "text": [
      "please Enter your year of birth(yy/mm/dd):1970/7/22\n",
      "1970-07-22\n"
     ]
    }
   ],
   "source": [
    "YOB = input('please Enter your year of birth(yy/mm/dd):')\n",
    "cyob = datetime.datetime.strptime(YOB,'%Y/%m/%d').date()\n",
    "print(cyob)"
   ]
  },
  {
   "cell_type": "code",
   "execution_count": null,
   "id": "ecefda3c",
   "metadata": {},
   "outputs": [],
   "source": [
    "#time delta: this is the difference between two dates and two time"
   ]
  },
  {
   "cell_type": "code",
   "execution_count": 36,
   "id": "a562ac93",
   "metadata": {},
   "outputs": [
    {
     "data": {
      "text/plain": [
       "datetime.date(2023, 1, 7)"
      ]
     },
     "execution_count": 36,
     "metadata": {},
     "output_type": "execute_result"
    }
   ],
   "source": [
    "tdelta = datetime.timedelta(days = 200)\n",
    "currentdate+tdelta"
   ]
  },
  {
   "cell_type": "code",
   "execution_count": 38,
   "id": "5c9a1e85",
   "metadata": {},
   "outputs": [
    {
     "data": {
      "text/plain": [
       "datetime.date(2021, 12, 3)"
      ]
     },
     "execution_count": 38,
     "metadata": {},
     "output_type": "execute_result"
    }
   ],
   "source": [
    "currentdate - tdelta"
   ]
  },
  {
   "cell_type": "code",
   "execution_count": 40,
   "id": "4c2b94a1",
   "metadata": {},
   "outputs": [
    {
     "data": {
      "text/plain": [
       "datetime.timedelta(days=117)"
      ]
     },
     "execution_count": 40,
     "metadata": {},
     "output_type": "execute_result"
    }
   ],
   "source": [
    "currentdate - date1"
   ]
  },
  {
   "cell_type": "code",
   "execution_count": 48,
   "id": "4e62e57b",
   "metadata": {},
   "outputs": [
    {
     "name": "stdout",
     "output_type": "stream",
     "text": [
      "what position does Marcelo play for Real Madrid:LB\n",
      "How many clubs do we have in the Netherland league:18\n",
      "How many datatypes do we consider in the course of our program:4\n",
      "How many legs does a spider have:8\n",
      "What type of language is python:programming\n",
      "Your score is 25 in 20 seconds\n"
     ]
    }
   ],
   "source": [
    "#write a program to calculate how many seconds it takes 5 questions\n",
    "output = {\n",
    "    'Q1':['Gk','AM','SW','LB'],\n",
    "    'Q2':[16,15,45,20,18],\n",
    "    'Q3':[6,3,4,5,6],\n",
    "    'Q4':[9,8,10,15],\n",
    "    'Q5':['programming','High','Scripting','Machine']\n",
    "}\n",
    "score =0\n",
    "time = 0\n",
    "start_time = datetime.datetime.now()\n",
    "answer = input('what position does Marcelo play for Real Madrid:')\n",
    "if answer == output['Q1'][3]:\n",
    "    score = score + 5\n",
    "else:\n",
    "    score = score + 0\n",
    "answer =int(input('How many clubs do we have in the Netherland league:'))\n",
    "if answer == output['Q2'][4]:\n",
    "    score = score + 5\n",
    "else:\n",
    "    score = score + 0\n",
    "    \n",
    "answer =int(input('How many datatypes do we consider in the course of our program:'))\n",
    "if answer == output['Q3'][2]:\n",
    "    score = score + 5\n",
    "else:\n",
    "    score = score + 0\n",
    "answer =int(input('How many legs does a spider have:'))\n",
    "if answer == output['Q4'][1]:   \n",
    "    score = score + 5\n",
    "else:\n",
    "    score = score + 0\n",
    "answer =input('What type of language is python:')\n",
    "if answer == output['Q5'][0]:\n",
    "    score = score + 5\n",
    "else:\n",
    "    score = score + 0\n",
    "stop_time = datetime.datetime.now()\n",
    "diff = stop_time - start_time\n",
    "time = diff.seconds\n",
    "print(f'Your score is {score} in {time} seconds')\n",
    "    "
   ]
  },
  {
   "cell_type": "code",
   "execution_count": null,
   "id": "25f9b6ae",
   "metadata": {},
   "outputs": [],
   "source": []
  }
 ],
 "metadata": {
  "kernelspec": {
   "display_name": "Python 3 (ipykernel)",
   "language": "python",
   "name": "python3"
  },
  "language_info": {
   "codemirror_mode": {
    "name": "ipython",
    "version": 3
   },
   "file_extension": ".py",
   "mimetype": "text/x-python",
   "name": "python",
   "nbconvert_exporter": "python",
   "pygments_lexer": "ipython3",
   "version": "3.9.12"
  }
 },
 "nbformat": 4,
 "nbformat_minor": 5
}
