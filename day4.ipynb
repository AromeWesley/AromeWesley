{
 "cells": [
  {
   "cell_type": "markdown",
   "metadata": {},
   "source": [
    "# Modules"
   ]
  },
  {
   "cell_type": "markdown",
   "metadata": {},
   "source": [
    "# Math module"
   ]
  },
  {
   "cell_type": "markdown",
   "metadata": {},
   "source": [
    "#Statistic modules"
   ]
  },
  {
   "cell_type": "code",
   "execution_count": null,
   "metadata": {},
   "outputs": [],
   "source": [
    "['counter','decimal','fraction']"
   ]
  },
  {
   "cell_type": "markdown",
   "metadata": {},
   "source": [
    "# CONDITIONS"
   ]
  },
  {
   "cell_type": "markdown",
   "metadata": {},
   "source": [
    "# conditional statements are used for decision making in programming"
   ]
  },
  {
   "cell_type": "code",
   "execution_count": 5,
   "metadata": {},
   "outputs": [
    {
     "name": "stdout",
     "output_type": "stream",
     "text": [
      "please provide a number51\n",
      "51is an odd number\n"
     ]
    }
   ],
   "source": [
    "#if\n",
    "num=int(input('please provide a number'))\n",
    "if num%2!=0:\n",
    " print(f'{num}is an odd number')\n",
    "    #for if condition, it will return an output if only the condition is true"
   ]
  },
  {
   "cell_type": "markdown",
   "metadata": {},
   "source": [
    "#if else"
   ]
  },
  {
   "cell_type": "code",
   "execution_count": 7,
   "metadata": {},
   "outputs": [
    {
     "name": "stdout",
     "output_type": "stream",
     "text": [
      "please provide a number64\n",
      "64is an even number\n"
     ]
    }
   ],
   "source": [
    "num=int(input('please provide a number'))\n",
    "if num%2!=0:\n",
    " print(f'{num}is an odd number')\n",
    "else:\n",
    "    print(f'{num}is an even number')"
   ]
  },
  {
   "cell_type": "markdown",
   "metadata": {},
   "source": [
    "#exercise one\n",
    "#write a python program to check if a given number is divisible by 5 and 7"
   ]
  },
  {
   "cell_type": "code",
   "execution_count": 11,
   "metadata": {},
   "outputs": [
    {
     "ename": "SyntaxError",
     "evalue": "invalid syntax (3562046346.py, line 2)",
     "output_type": "error",
     "traceback": [
      "\u001b[1;36m  Input \u001b[1;32mIn [11]\u001b[1;36m\u001b[0m\n\u001b[1;33m    if num%5==0 and num%7==0\u001b[0m\n\u001b[1;37m                            ^\u001b[0m\n\u001b[1;31mSyntaxError\u001b[0m\u001b[1;31m:\u001b[0m invalid syntax\n"
     ]
    }
   ],
   "source": [
    "num=int(input('please provide a number'))\n",
    "if num%5==0 and num%7==0\n",
    "print(f'{num} is divisible by 5 and 7')\n",
    "print(f'{num} is not divisble by 5 and 7')"
   ]
  },
  {
   "cell_type": "raw",
   "metadata": {},
   "source": [
    "# As a transport officer of an organisation. the default speed limit is seventy. the driverspeed"
   ]
  },
  {
   "cell_type": "code",
   "execution_count": 15,
   "metadata": {},
   "outputs": [
    {
     "name": "stdout",
     "output_type": "stream",
     "text": [
      "driver's speed:120\n",
      "you are above the speed limit with a point of 10 which is still acceptable Be warned\n"
     ]
    }
   ],
   "source": [
    "defaultspeed =70\n",
    "Dspeed =int(input('driver\\'s speed:'))\n",
    "if Dspeed<=defaultspeed:\n",
    "    print('speed ok on track')\n",
    "else:\n",
    "    points=(Dspeed-defaultspeed)//5\n",
    "    if points<=12:\n",
    "        print(f'you are above the speed limit with a point of {points} which is still acceptable Be warned')\n",
    "    else:\n",
    "        print(f'you are above the speed limit with a point of {points} which is not acceptable License suspended')"
   ]
  },
  {
   "cell_type": "code",
   "execution_count": 21,
   "metadata": {},
   "outputs": [
    {
     "ename": "SyntaxError",
     "evalue": "invalid syntax (4019868630.py, line 11)",
     "output_type": "error",
     "traceback": [
      "\u001b[1;36m  Input \u001b[1;32mIn [21]\u001b[1;36m\u001b[0m\n\u001b[1;33m    elif==2:\u001b[0m\n\u001b[1;37m        ^\u001b[0m\n\u001b[1;31mSyntaxError\u001b[0m\u001b[1;31m:\u001b[0m invalid syntax\n"
     ]
    }
   ],
   "source": [
    "print('WECOME TO PRONET MALL!!')\n",
    "print('''0:ground floor\n",
    "1:first floor\n",
    "2:second floor\n",
    "3:third floor\n",
    "4:lounge\n",
    "      ''')\n",
    "choice=int(input('choose the floor you like to go:'))\n",
    "if choice==1:\n",
    "      print('!!!!!!!!first floor')\n",
    "elif==2:\n",
    "      print('!!!!!!!!second floor')\n",
    "elif==3:\n",
    "      print('!!!!!!!!third floor')\n",
    "elif==4\n",
    "      print('!!!!!!!!lounge')\n",
    "else print('!!!!!!!ground floor')"
   ]
  },
  {
   "cell_type": "code",
   "execution_count": 23,
   "metadata": {},
   "outputs": [
    {
     "ename": "SyntaxError",
     "evalue": "invalid syntax (2987462240.py, line 2)",
     "output_type": "error",
     "traceback": [
      "\u001b[1;36m  Input \u001b[1;32mIn [23]\u001b[1;36m\u001b[0m\n\u001b[1;33m    if num%5==0\u001b[0m\n\u001b[1;37m               ^\u001b[0m\n\u001b[1;31mSyntaxError\u001b[0m\u001b[1;31m:\u001b[0m invalid syntax\n"
     ]
    }
   ],
   "source": [
    "num=int(input('provide a number'))\n",
    "if num%5==0\n",
    "print(f'{num} is divisible by 5')"
   ]
  }
 ],
 "metadata": {
  "kernelspec": {
   "display_name": "Python 3 (ipykernel)",
   "language": "python",
   "name": "python3"
  },
  "language_info": {
   "codemirror_mode": {
    "name": "ipython",
    "version": 3
   },
   "file_extension": ".py",
   "mimetype": "text/x-python",
   "name": "python",
   "nbconvert_exporter": "python",
   "pygments_lexer": "ipython3",
   "version": "3.9.12"
  }
 },
 "nbformat": 4,
 "nbformat_minor": 4
}
